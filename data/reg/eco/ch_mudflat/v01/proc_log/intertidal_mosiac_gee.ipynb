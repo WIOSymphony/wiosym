{
 "cells": [
  {
   "cell_type": "code",
   "execution_count": 3,
   "metadata": {},
   "outputs": [],
   "source": [
    "import os\n",
    "import ee\n",
    "import geemap\n",
    "from geemap.datasets import DATA, get_metadata\n",
    "#ee.Authenticate()\n",
    "#ee.Initialize()"
   ]
  },
  {
   "cell_type": "code",
   "execution_count": 4,
   "metadata": {},
   "outputs": [
    {
     "data": {
      "application/vnd.jupyter.widget-view+json": {
       "model_id": "a4369fc531ad45bbb90deecd43791882",
       "version_major": 2,
       "version_minor": 0
      },
      "text/plain": [
       "HTML(value='\\n            <html>\\n            <body>\\n                <h3>Murray Global Tidal Wetland Change v…"
      ]
     },
     "metadata": {},
     "output_type": "display_data"
    }
   ],
   "source": [
    "DATA.JCU_Murray_GIC_global_tidal_wetland_change_2019\n",
    "DATA.JCU\n",
    "get_metadata(DATA.JCU_Murray_GIC_global_tidal_wetland_change_2019)"
   ]
  },
  {
   "cell_type": "code",
   "execution_count": 5,
   "metadata": {},
   "outputs": [],
   "source": [
    "\n",
    "Map = geemap.Map(center=[10, 40], zoom=3)\n"
   ]
  },
  {
   "cell_type": "code",
   "execution_count": 7,
   "metadata": {},
   "outputs": [],
   "source": [
    "# Define the region of interest\n",
    "aoi = ee.Geometry.Polygon(\n",
    "    [[[-23.196328877875377, 25.426571732673924],\n",
    "      [-23.196328877875377, -45.380577059318085],\n",
    "      [81.92085862212463, -45.380577059318085],\n",
    "      [81.92085862212463, 25.426571732673924]]], None, False)"
   ]
  },
  {
   "cell_type": "code",
   "execution_count": 8,
   "metadata": {},
   "outputs": [],
   "source": [
    "#set output directory\n",
    "out_dir=os.path.expanduser('C:/Users/pichaya/wiosym/data/reg/eco/ch_mudflat/v01/proc')\n",
    "if not os.path.exists(out_dir):\n",
    "    os.makedirs(out_dir)"
   ]
  },
  {
   "cell_type": "code",
   "execution_count": 9,
   "metadata": {},
   "outputs": [],
   "source": [
    "# Load the Earth Engine datasets\n",
    "Int2002_2004 = ee.Image('UQ/murray/Intertidal/v1_1/global_intertidal/2002-2004').clip(aoi)\n",
    "Int2011_2013 = ee.Image('UQ/murray/Intertidal/v1_1/global_intertidal/2011-2013').clip(aoi)\n",
    "Int2014_2016 = ee.Image('UQ/murray/Intertidal/v1_1/global_intertidal/2014-2016').clip(aoi)\n",
    "\n",
    "# Create an image collection from the datasets\n",
    "collection = ee.ImageCollection([Int2002_2004, Int2011_2013, Int2014_2016])\n",
    "\n",
    "# Mosaic the images in the collection\n",
    "mosaic = collection.mosaic()\n",
    "\n"
   ]
  },
  {
   "cell_type": "code",
   "execution_count": 10,
   "metadata": {},
   "outputs": [],
   "source": [
    "# Export the image to Google Cloud Storage\n",
    "\n",
    "# INSERT YOUR PROJECT HERE!\n",
    "#PROJECT = 'melody-336508'\n",
    "\n",
    "# Define the output path and file name for the exported file on Google Cloud Storage\n",
    "\n",
    "#out_dir = 'gs://wiosym'\n",
    "#file_name = 'intertidal_mosaic.tif'\n",
    "# INSERT YOUR BUCKET HERE!\n",
    "bucket = 'pichaya'\n",
    "geemap.ee_export_image_to_cloud_storage(mosaic, description='intertidal_mosaic', bucket=bucket, region=aoi, scale=30, maxPixels=10000000000000)\n",
    "\n",
    "\n",
    "\n",
    "#export data to local computer\n",
    "#out_raster = os.path.join(os.path.expanduser('~'),'proc')\n",
    "#file_name = os.path.join(out_dir,'intertidal_mosaic.tif')\n",
    "#geemap.ee_export_image(mosaic,filename=file_name, scale=100, region=aoi, file_per_band=False)\n"
   ]
  },
  {
   "cell_type": "code",
   "execution_count": 22,
   "metadata": {},
   "outputs": [
    {
     "data": {
      "application/vnd.jupyter.widget-view+json": {
       "model_id": "2a7eb899f089450498bff8bfb3f59a56",
       "version_major": 2,
       "version_minor": 0
      },
      "text/plain": [
       "Map(center=[10, 40], controls=(WidgetControl(options=['position', 'transparent_bg'], widget=HBox(children=(Tog…"
      ]
     },
     "metadata": {},
     "output_type": "display_data"
    }
   ],
   "source": [
    "# Create a geemap interactive map\n",
    "Map = geemap.Map(center=[0, 0], zoom=4)\n",
    "\n",
    "viz_params = {\n",
    "    'min': 0,\n",
    "    'max': 1,\n",
    "    'palette': ['black', 'green']\n",
    "}\n",
    "\n",
    "viz = {\n",
    "    'min': 0,\n",
    "    'max': 1,\n",
    "    'palette': ['black', 'red']\n",
    "}\n",
    "viz2 = {\n",
    "    'min': 0,\n",
    "    'max': 1,\n",
    "    'palette': ['black', 'yellow']\n",
    "}\n",
    "viz3 = {\n",
    "    'min': 0,\n",
    "    'max': 1,\n",
    "    'palette': ['black', 'blue']\n",
    "}\n",
    "\n",
    "# Add the mosaic layer to the map\n",
    "Map = geemap.Map(center=[10, 40], zoom=5)\n",
    "Map.addLayer(mosaic, viz_params, 'Mosaic')\n",
    "Map.addLayer(Int2002_2004, viz, 'Int2002_2004')\n",
    "Map.addLayer(Int2011_2013, viz2, 'Int2011_2013')\n",
    "Map.addLayer(Int2014_2016, viz3, 'Int2014_2016')\n",
    "Map\n"
   ]
  },
  {
   "cell_type": "code",
   "execution_count": 23,
   "metadata": {},
   "outputs": [],
   "source": [
    "import glob\n",
    "import rasterio\n",
    "from rasterio.merge import merge\n",
    "import matplotlib.pyplot as plt\n"
   ]
  },
  {
   "cell_type": "code",
   "execution_count": 24,
   "metadata": {},
   "outputs": [
    {
     "name": "stdout",
     "output_type": "stream",
     "text": [
      "C:/Users/pichaya/wiosym/data/reg/eco/ch_mudflat/v01/proc\\intertidal_mosaic.tif\n"
     ]
    },
    {
     "data": {
      "image/png": "[encoded data removed]",
      "text/plain": [
       "<Figure size 640x480 with 1 Axes>"
      ]
     },
     "metadata": {},
     "output_type": "display_data"
    },
    {
     "name": "stdout",
     "output_type": "stream",
     "text": [
      "C:/Users/pichaya/wiosym/data/reg/eco/ch_mudflat/v01/proc\\intertidal_mosaic0000000000-0000000000.tif\n"
     ]
    }
   ],
   "source": [
    "# Define the directory path\n",
    "dir_path = 'C:/Users/pichaya/wiosym/data/reg/eco/ch_mudflat/v01/proc/'\n",
    "\n",
    "# Get a list of all .tif files in the directory\n",
    "tif_files = glob.glob(dir_path + '*.tif')\n",
    "# Loop through each file and plot the raster data\n",
    "for file in tif_files:\n",
    "    # Open the raster file\n",
    "    with rasterio.open(file) as src:\n",
    "        # Read the raster data as a numpy array\n",
    "        raster_data = src.read(1)\n",
    "        print(file)\n",
    "        # Define the plot parameters\n",
    "        cmap = 'viridis'\n",
    "        vmin, vmax = raster_data.min(), raster_data.max()\n",
    "\n",
    "        # Plot the raster\n",
    "        plt.imshow(raster_data, cmap=cmap, vmin=vmin, vmax=vmax)\n",
    "        plt.show()\n"
   ]
  },
  {
   "cell_type": "code",
   "execution_count": 1,
   "metadata": {},
   "outputs": [
    {
     "ename": "NameError",
     "evalue": "name 'tif_files' is not defined",
     "output_type": "error",
     "traceback": [
      "\u001b[1;31m---------------------------------------------------------------------------\u001b[0m",
      "\u001b[1;31mNameError\u001b[0m                                 Traceback (most recent call last)",
      "\u001b[1;32mc:\\Users\\pichaya\\wiosym\\data\\reg\\eco\\ch_mudflat\\v01\\proc\\intertidal_mosiac_gee.ipynb Cell 11\u001b[0m in \u001b[0;36m3\n\u001b[0;32m      <a href='vscode-notebook-cell:/c%3A/Users/pichaya/wiosym/data/reg/eco/ch_mudflat/v01/proc/intertidal_mosiac_gee.ipynb#X25sZmlsZQ%3D%3D?line=0'>1</a>\u001b[0m \u001b[39m# Open all the raster files and read their metadata\u001b[39;00m\n\u001b[0;32m      <a href='vscode-notebook-cell:/c%3A/Users/pichaya/wiosym/data/reg/eco/ch_mudflat/v01/proc/intertidal_mosiac_gee.ipynb#X25sZmlsZQ%3D%3D?line=1'>2</a>\u001b[0m src_files_to_mosaic \u001b[39m=\u001b[39m []\n\u001b[1;32m----> <a href='vscode-notebook-cell:/c%3A/Users/pichaya/wiosym/data/reg/eco/ch_mudflat/v01/proc/intertidal_mosiac_gee.ipynb#X25sZmlsZQ%3D%3D?line=2'>3</a>\u001b[0m \u001b[39mfor\u001b[39;00m file \u001b[39min\u001b[39;00m tif_files:\n\u001b[0;32m      <a href='vscode-notebook-cell:/c%3A/Users/pichaya/wiosym/data/reg/eco/ch_mudflat/v01/proc/intertidal_mosiac_gee.ipynb#X25sZmlsZQ%3D%3D?line=3'>4</a>\u001b[0m     src \u001b[39m=\u001b[39m rasterio\u001b[39m.\u001b[39mopen(file)\n\u001b[0;32m      <a href='vscode-notebook-cell:/c%3A/Users/pichaya/wiosym/data/reg/eco/ch_mudflat/v01/proc/intertidal_mosiac_gee.ipynb#X25sZmlsZQ%3D%3D?line=4'>5</a>\u001b[0m     src_files_to_mosaic\u001b[39m.\u001b[39mappend(src)\n",
      "\u001b[1;31mNameError\u001b[0m: name 'tif_files' is not defined"
     ]
    }
   ],
   "source": [
    "# Open all the raster files and read their metadata\n",
    "src_files_to_mosaic = []\n",
    "for file in tif_files:\n",
    "    src = rasterio.open(file)\n",
    "    src_files_to_mosaic.append(src)\n",
    "    \n",
    "# Mosaic the raster files together\n",
    "mosaic, out_trans = merge(src_files_to_mosaic)\n",
    "\n",
    "# Copy the metadata of the first raster\n",
    "out_meta = src_files_to_mosaic[0].meta.copy()\n",
    "out_meta.update({\"driver\": \"GTiff\",\n",
    "                  \"height\": mosaic.shape[1],\n",
    "                  \"width\": mosaic.shape[2],\n",
    "                  \"transform\": out_trans})\n",
    "\n",
    "# Write the output raster to a new GeoTIFF file\n",
    "with rasterio.open(\"C:/Users/pichaya/wiosym/data/reg/eco/ch_mudflat/v01/proc/intertidal_mosaic.tif\", \"w\", **out_meta) as dest:\n",
    "    dest.write(mosaic)\n",
    "\n",
    "\n",
    "# Open the new raster file and read the raster data as a numpy array\n",
    "with rasterio.open(\"C:/Users/pichaya/wiosym/data/reg/eco/ch_mudflat/v01/proc/intertidal_mosaic.tif\") as src:\n",
    "    raster_data = src.read(1)\n",
    "\n",
    "# Define the plot parameters\n",
    "cmap = 'viridis'\n",
    "vmin, vmax = raster_data.min(), raster_data.max()\n",
    "\n",
    "# Plot the raster\n",
    "plt.imshow(raster_data, cmap=cmap, vmin=vmin, vmax=vmax)\n",
    "plt.show()"
   ]
  }
 ],
 "metadata": {
  "kernelspec": {
   "display_name": "Python 3",
   "language": "python",
   "name": "python3"
  },
  "language_info": {
   "codemirror_mode": {
    "name": "ipython",
    "version": 3
   },
   "file_extension": ".py",
   "mimetype": "text/x-python",
   "name": "python",
   "nbconvert_exporter": "python",
   "pygments_lexer": "ipython3",
   "version": "3.10.8"
  },
  "orig_nbformat": 4
 },
 "nbformat": 4,
 "nbformat_minor": 2
}
