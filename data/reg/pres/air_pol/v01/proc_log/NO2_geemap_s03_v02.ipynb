{
  "cells": [
    {
      "cell_type": "markdown",
      "metadata": {},
      "source": [
        "## Import libraries"
      ]
    },
    {
      "cell_type": "code",
      "metadata": {},
      "source": [
        "import ee\n",
        "import geemap"
      ],
      "outputs": [],
      "execution_count": null
    },
    {
      "cell_type": "markdown",
      "metadata": {},
      "source": [
        "## Create an interactive map"
      ]
    },
    {
      "cell_type": "code",
      "metadata": {},
      "source": [
        "Map = geemap.Map(center=[40, -100], zoom=4)"
      ],
      "outputs": [],
      "execution_count": null
    },
    {
      "cell_type": "markdown",
      "metadata": {},
      "source": [
        "## Add Earth Engine Python script"
      ]
    },
    {
      "cell_type": "code",
      "metadata": {},
      "source": [
        "# Add Earth Engine dataset\n",
        "image = ee.Image(\"USGS/SRTMGL1_003\")\n",
        "#*** Start of imports. If edited, may not auto-convert in the playground. ***#\n",
        "wiosym_mask = ee.Image(\"users/PichayaMelody123/wiosymmarin\"),\n",
        "    wiosym_roi =\n",
        "\n",
        "    # shown: False #\n",
        "    # displayProperties: [\n",
        "      {\n",
        "        \"type\": \"rectangle\"\n",
        "      }\n",
        "    ] #\n",
        "    ee.Geometry.Polygon(\n",
        "        [[[7.481914062500019, 16.19710227789944],\n",
        "          [7.481914062500019, -40.39396681696679],\n",
        "          [78.32175781250001, -40.39396681696679],\n",
        "          [78.32175781250001, 16.19710227789944]]], None, False)\n",
        "#**** End of imports. If edited, may not auto-convert in the playground. ****#\n",
        "roi= ee.FeatureCollection(wiosym_roi).geometry()\n",
        "\n",
        "collection = ee.ImageCollection('COPERNICUS/S5P/OFFL/L3_NO2') \\\n",
        "  .select('tropospheric_NO2_column_number_density') \\\n",
        "  .filterDate('2021-01-01', '2021-12-01')\n",
        "\n",
        "\n",
        "wiosym = ee.Image ('users/PichayaMelody123/wiosymmarin')\n",
        "\n",
        "\n",
        "print(collection)\n",
        "\n",
        "band_viz = {\n",
        "  'min': 0,\n",
        "  'max': 0.0002,\n",
        "  'palette': ['black', 'blue', 'purple', 'cyan', 'green', 'yellow', 'red']\n",
        "}\n",
        "Map.addLayer(wiosym)\n",
        "Map.addLayer(collection.mean().clip(roi), band_viz, 'S5P N02')\n",
        "\n",
        "Export.image.toDrive({\n",
        "  'image' : collection.mean().clip(roi),\n",
        "  'description': 'NO2_wio',\n",
        "  'maxPixels': 3784216672400,\n",
        "  'region' : roi})"
      ],
      "outputs": [],
      "execution_count": null
    },
    {
      "cell_type": "markdown",
      "metadata": {},
      "source": [
        "## Display the interactive map"
      ]
    },
    {
      "cell_type": "code",
      "metadata": {},
      "source": [
        "Map"
      ],
      "outputs": [],
      "execution_count": null
    }
  ],
  "metadata": {
    "anaconda-cloud": {},
    "kernelspec": {
      "display_name": "Python 3",
      "language": "python",
      "name": "python3"
    },
    "language_info": {
      "codemirror_mode": {
        "name": "ipython",
        "version": 3
      },
      "file_extension": ".py",
      "mimetype": "text/x-python",
      "name": "python",
      "nbconvert_exporter": "python",
      "pygments_lexer": "ipython3",
      "version": "3.6.1"
    }
  },
  "nbformat": 4,
  "nbformat_minor": 4
}