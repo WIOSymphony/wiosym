{
  "cells": [
    {
      "cell_type": "markdown",
      "metadata": {},
      "source": [
        "## Import libraries"
      ]
    },
    {
      "cell_type": "code",
      "metadata": {},
      "source": [
        "import ee\n",
        "import geemap"
      ],
      "outputs": [],
      "execution_count": null
    },
    {
      "cell_type": "markdown",
      "metadata": {},
      "source": [
        "## Create an interactive map"
      ]
    },
    {
      "cell_type": "code",
      "metadata": {},
      "source": [
        "Map = geemap.Map(center=[40, -100], zoom=4)"
      ],
      "outputs": [],
      "execution_count": null
    },
    {
      "cell_type": "markdown",
      "metadata": {},
      "source": [
        "## Add Earth Engine Python script"
      ]
    },
    {
      "cell_type": "code",
      "metadata": {},
      "source": [
        "# Add Earth Engine dataset\n",
        "image = ee.Image(\"USGS/SRTMGL1_003\")\n",
        "#*** Start of imports. If edited, may not auto-convert in the playground. ***#\n",
        "wio = ee.Image(\"users/PichayaMelody123/wiosymmarin\"),\n",
        "    roi =\n",
        "\n",
        "    # shown: False #\n",
        "    # displayProperties: [\n",
        "      {\n",
        "        \"type\": \"rectangle\"\n",
        "      },\n",
        "      {\n",
        "        \"type\": \"rectangle\"\n",
        "      }\n",
        "    ] #\n",
        "    ee.Geometry.MultiPolygon(\n",
        "        [[[[10.711103613726104, 68.50216451884634],\n",
        "           [10.711103613726104, 53.34085060429263],\n",
        "           [32.5958692387261, 53.34085060429263],\n",
        "           [32.5958692387261, 68.50216451884634]]],\n",
        "         [[[7.561812400817871, 16.2923477813746],\n",
        "           [7.561812400817871, -49.1575371409465],\n",
        "           [78.48954677581787, -49.1575371409465],\n",
        "           [78.48954677581787, 16.2923477813746]]]], None, False),\n",
        "    geometry =\n",
        "\n",
        "    # shown: False #\n",
        "    ee.Geometry.MultiPoint()\n",
        "#**** End of imports. If edited, may not auto-convert in the playground. ****#\n",
        "wiosym = ee.Image('users/PichayaMelody123/wiosymmarin')\n",
        "Map.addLayer(wiosym)\n",
        "\n",
        "dataset = ee.ImageCollection(\"JAXA/GCOM-C/L3/OCEAN/CHLA/V1\") \\\n",
        "                .filterDate('2017-01-01', '2021-12-01') \\\n",
        "                .filter(ee.Filter.eq(\"SATELLITE_DIRECTION\", \"D\"))\n",
        "\n",
        "# Multiply with slope coefficient\n",
        "image = dataset.mean().multiply(0.0016).log10()\n",
        "print(image)\n",
        "vis = {\n",
        "  'bands': ['CHLA_AVE'],\n",
        "  'min': -2,\n",
        "  'max': 2,\n",
        "  'palette': [\n",
        "    '3500a8','0800ba','003fd6',\n",
        "    '00aca9','77f800','ff8800',\n",
        "    'b30000','920000','880000'\n",
        "  ]\n",
        "}\n",
        "\n",
        "Map.addLayer(image.clip(roi), vis, \"Chlorophyll-a concentration\")\n"
      ],
      "outputs": [],
      "execution_count": null
    },
    {
      "cell_type": "markdown",
      "metadata": {},
      "source": [
        "## Display the interactive map"
      ]
    },
    {
      "cell_type": "code",
      "metadata": {},
      "source": [
        "Map"
      ],
      "outputs": [],
      "execution_count": null
    }
  ],
  "metadata": {
    "anaconda-cloud": {},
    "kernelspec": {
      "display_name": "Python 3",
      "language": "python",
      "name": "python3"
    },
    "language_info": {
      "codemirror_mode": {
        "name": "ipython",
        "version": 3
      },
      "file_extension": ".py",
      "mimetype": "text/x-python",
      "name": "python",
      "nbconvert_exporter": "python",
      "pygments_lexer": "ipython3",
      "version": "3.6.1"
    }
  },
  "nbformat": 4,
  "nbformat_minor": 4
}