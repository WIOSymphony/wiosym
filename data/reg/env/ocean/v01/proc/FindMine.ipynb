{
 "cells": [
  {
   "cell_type": "code",
   "execution_count": 2,
   "id": "811ebb18-c38e-4c17-9d3c-b4df3bd9a628",
   "metadata": {},
   "outputs": [
    {
     "name": "stdout",
     "output_type": "stream",
     "text": [
      "D:\\Storage\\Repositories\\wiosym\\data_raw\\glo\\env\\ocean_zones\\copernicusmarineservicecmems\\byq2110261409\n",
      "D:\\Storage\\Repositories\\wiosym\\data_raw\\glo\\env\\ocean_zones\\copernicusmarineservicecmems\\byq2110261901\n",
      "D:\\Storage\\Repositories\\wiosym\\data_raw\\glo\\env\\ocean_zones\\copernicusmarineservicecmems\\byq2110261409\\byq2110261409_metasym.txt\n",
      "D:\\Storage\\Repositories\\wiosym\\data_raw\\glo\\env\\ocean_zones\\copernicusmarineservicecmems\\byq2110261901\\byq2110261901_metasym.txt\n",
      "D:\\Storage\\Repositories\\wiosym\\data_raw\\glo\\pres\\cc\\copernicusmarineservicecmems\\byq2206201641\n",
      "D:\\Storage\\Repositories\\wiosym\\data_raw\\glo\\pres\\cc\\copernicusmarineservicecmems\\byq2206201715\n",
      "D:\\Storage\\Repositories\\wiosym\\data_raw\\glo\\pres\\cc\\copernicusmarineservicecmems\\byq2206201641\\byq2206201641_metasym.txt\n",
      "D:\\Storage\\Repositories\\wiosym\\data_raw\\glo\\pres\\cc\\copernicusmarineservicecmems\\byq2206201715\\byq2206201715_metasym.txt\n",
      "D:\\Storage\\Repositories\\wiosym\\data_raw\\reg\\eco\\ph_phyto\\unknown\\byq2105311806\n",
      "D:\\Storage\\Repositories\\wiosym\\data_raw\\reg\\eco\\ph_phyto\\unknown\\byq2105311806\\byq2105311806_metasym.txt\n",
      "D:\\Storage\\Repositories\\wiosym\\data_raw\\reg\\pres\\nrg_light\\copernicus\\byq2105311757\n",
      "D:\\Storage\\Repositories\\wiosym\\data_raw\\reg\\pres\\nrg_light\\copernicus\\byq2105311803\n",
      "D:\\Storage\\Repositories\\wiosym\\data_raw\\reg\\pres\\nrg_light\\copernicus\\byq2105311757\\byq2105311757_metasym.txt\n",
      "D:\\Storage\\Repositories\\wiosym\\data_raw\\reg\\pres\\nrg_light\\copernicus\\byq2105311803\\byq2105311803_metasym.txt\n"
     ]
    }
   ],
   "source": [
    "from pathlib import Path\n",
    "\n",
    "for path in Path('D:\\Storage\\Repositories\\wiosym').rglob('byq*'):\n",
    "    print(path)"
   ]
  }
 ],
 "metadata": {
  "kernelspec": {
   "display_name": "Python 3 (ipykernel)",
   "language": "python",
   "name": "python3"
  },
  "language_info": {
   "codemirror_mode": {
    "name": "ipython",
    "version": 3
   },
   "file_extension": ".py",
   "mimetype": "text/x-python",
   "name": "python",
   "nbconvert_exporter": "python",
   "pygments_lexer": "ipython3",
   "version": "3.8.13"
  }
 },
 "nbformat": 4,
 "nbformat_minor": 5
}
