{
 "cells": [
  {
   "cell_type": "code",
   "execution_count": 1,
   "id": "b5d9409f-939c-4c67-9c61-ca33789dba27",
   "metadata": {},
   "outputs": [],
   "source": [
    "import matplotlib.pyplot as plt\n",
    "import numpy as np\n",
    "import xarray as xr\n",
    "import rioxarray as rxr\n",
    "from pyproj import Proj, Transformer, CRS\n",
    "\n",
    "import cmocean.cm as cmo\n",
    "import seaborn as sns\n",
    "sns.set(font='Franklin Gothic Book',\n",
    "        rc={\n",
    "         'axes.axisbelow': False,\n",
    "         'axes.edgecolor': 'Black',\n",
    "         'axes.facecolor': 'lightgrey',\n",
    "         'axes.grid': False,\n",
    "         'axes.labelcolor': 'darkgrey',\n",
    "         'axes.spines.right': True,\n",
    "         'axes.spines.top': True,\n",
    "         'figure.facecolor': 'white',\n",
    "         'lines.solid_capstyle': 'round',\n",
    "         'patch.edgecolor': 'k',\n",
    "         'patch.force_edgecolor': True,\n",
    "         'text.color': 'dimgrey',\n",
    "         'xtick.bottom': False,\n",
    "         'xtick.color': 'dimgrey',\n",
    "         'xtick.direction': 'out',\n",
    "         'xtick.top': False,\n",
    "         'ytick.color': 'dimgrey',\n",
    "         'ytick.direction': 'out',\n",
    "         'ytick.left': False,\n",
    "         'ytick.right': False},\n",
    "         font_scale=1)"
   ]
  },
  {
   "cell_type": "code",
   "execution_count": 2,
   "id": "049f2bf7-9e2a-43a8-9787-7f6170fa032c",
   "metadata": {},
   "outputs": [
    {
     "name": "stdout",
     "output_type": "stream",
     "text": [
      "['grid_1km_no3_byq.tif', 'grid_1km_SPM_byq.tif', 'grid_1km_thetao_byq.tif', 'grid_1km_tropicalLimit_byq.tif', 'grid_1km_upwelling_byq.tif', 'grid_1km_v01.1.tif', 'grid_1km_warming_byq.tif', 'grid_1km_WGS84nodefs.tif']\n"
     ]
    }
   ],
   "source": [
    "from glob import glob\n",
    "files = glob('*.tif')\n",
    "print(files)"
   ]
  },
  {
   "cell_type": "code",
   "execution_count": null,
   "id": "022457b5-159f-4899-b68a-59d099913107",
   "metadata": {},
   "outputs": [
    {
     "name": "stdout",
     "output_type": "stream",
     "text": [
      "grid_1km_no3_byq.tif\n",
      "grid_1km_SPM_byq.tif\n",
      "grid_1km_thetao_byq.tif\n",
      "grid_1km_tropicalLimit_byq.tif\n",
      "grid_1km_upwelling_byq.tif\n",
      "grid_1km_v01.1.tif\n",
      "grid_1km_warming_byq.tif\n",
      "grid_1km_WGS84nodefs.tif\n"
     ]
    },
    {
     "name": "stderr",
     "output_type": "stream",
     "text": [
      "D:\\miniconda3\\envs\\py3.10\\lib\\site-packages\\pyproj\\crs\\crs.py:399: FutureWarning: '+init=<authority>:<code>' syntax is deprecated. '<authority>:<code>' is the preferred initialization method. When making the change, be mindful of axis order changes: https://pyproj4.github.io/pyproj/stable/gotchas.html#axis-order-changes-in-proj-6\n",
      "  return cls.from_user_input(_prepare_from_proj_string(in_proj_string))\n",
      "D:\\miniconda3\\envs\\py3.10\\lib\\site-packages\\pyproj\\crs\\crs.py:130: FutureWarning: '+init=<authority>:<code>' syntax is deprecated. '<authority>:<code>' is the preferred initialization method. When making the change, be mindful of axis order changes: https://pyproj4.github.io/pyproj/stable/gotchas.html#axis-order-changes-in-proj-6\n",
      "  in_crs_string = _prepare_from_proj_string(in_crs_string)\n"
     ]
    }
   ],
   "source": [
    "for file in files:\n",
    "    print(file)\n",
    "    ## LOAD GRID AND GET COORDINATE LOCATIONS\n",
    "    grid1km = rxr.open_rasterio(file, masked=True)\n",
    "\n",
    "    grid_lon, grid_lat = np.meshgrid(grid1km.x.values,grid1km.y.values)\n",
    "\n",
    "    crs = CRS.from_proj4(grid1km.rio.crs.to_proj4())\n",
    "    proj = Transformer.from_crs(crs, crs.geodetic_crs)\n",
    "\n",
    "    grid_lon, grid_lat = proj.transform(grid_lon,grid_lat)\n",
    "\n",
    "    plt.figure(figsize=(18,15))\n",
    "    # plt.contourf(grid_lon,grid_lat,np.squeeze(grid1km.values),100,cmap=cmo.balance)\n",
    "    plt.pcolormesh(grid_lon,grid_lat,np.squeeze(grid1km.values),cmap=cmo.balance)\n",
    "    plt.annotate(file, xy=(10,10))\n",
    "    plt.colorbar()\n",
    "    plt.savefig(file+'.png', bbox_inches='tight')"
   ]
  },
  {
   "cell_type": "code",
   "execution_count": null,
   "id": "2e9dbec3-4d3d-4bbe-8a5e-65df72f13431",
   "metadata": {},
   "outputs": [],
   "source": []
  },
  {
   "cell_type": "code",
   "execution_count": null,
   "id": "dbe9bb04-766c-45f9-b06e-714dfffb029a",
   "metadata": {},
   "outputs": [],
   "source": []
  },
  {
   "cell_type": "code",
   "execution_count": null,
   "id": "90f59330-60a9-43f9-bb30-af5213a06daf",
   "metadata": {},
   "outputs": [],
   "source": []
  },
  {
   "cell_type": "code",
   "execution_count": 17,
   "id": "10e057c3-1a4f-457d-a6d6-4723103de4e5",
   "metadata": {},
   "outputs": [
    {
     "name": "stderr",
     "output_type": "stream",
     "text": [
      "C:\\Users\\bastien\\AppData\\Local\\Temp\\ipykernel_23156\\2534573254.py:5: RuntimeWarning: divide by zero encountered in power\n",
      "  field = np.stack((-2 * x**2* y, x ** 2 + 2 * y**-3 - 4))\n",
      "D:\\anaconda3\\lib\\site-packages\\numpy\\lib\\function_base.py:1069: RuntimeWarning: invalid value encountered in subtract\n",
      "  out[tuple(slice1)] = (f[tuple(slice4)] - f[tuple(slice2)]) / (2. * ax_dx)\n",
      "D:\\anaconda3\\lib\\site-packages\\numpy\\lib\\function_base.py:1090: RuntimeWarning: invalid value encountered in subtract\n",
      "  out[tuple(slice1)] = (f[tuple(slice2)] - f[tuple(slice3)]) / dx_0\n",
      "D:\\anaconda3\\lib\\site-packages\\numpy\\lib\\function_base.py:1097: RuntimeWarning: invalid value encountered in subtract\n",
      "  out[tuple(slice1)] = (f[tuple(slice2)] - f[tuple(slice3)]) / dx_n\n"
     ]
    },
    {
     "data": {
      "text/plain": [
       "(11, 11)"
      ]
     },
     "execution_count": 17,
     "metadata": {},
     "output_type": "execute_result"
    },
    {
     "data": {
      "image/png": "[encoded data removed]",
      "text/plain": [
       "<Figure size 432x288 with 1 Axes>"
      ]
     },
     "metadata": {},
     "output_type": "display_data"
    }
   ],
   "source": [
    "shape = 11, 11\n",
    "dims = len(shape)\n",
    "domain = -2, 2\n",
    "x, y = np.meshgrid(*(np.linspace(*domain, num=d) for d in shape))\n",
    "field = np.stack((-2 * x**2* y, x ** 2 + 2 * y**-3 - 4))\n",
    "\n",
    "# Compute jacobian using NumPy's gradient function.\n",
    "partials = tuple(np.gradient(i) for i in field)\n",
    "jacobian = np.stack(partials).reshape(*(j := (dims,) * 2), *shape)\n",
    "\n",
    "# Extract divergence and curl from jacobian.\n",
    "divergence = np.trace(jacobian)\n",
    "\n",
    "plt.pcolormesh(divergence)\n",
    "\n",
    "np.shape(divergence)\n"
   ]
  }
 ],
 "metadata": {
  "kernelspec": {
   "display_name": "Python 3 (ipykernel)",
   "language": "python",
   "name": "python3"
  },
  "language_info": {
   "codemirror_mode": {
    "name": "ipython",
    "version": 3
   },
   "file_extension": ".py",
   "mimetype": "text/x-python",
   "name": "python",
   "nbconvert_exporter": "python",
   "pygments_lexer": "ipython3",
   "version": "3.10.5"
  }
 },
 "nbformat": 4,
 "nbformat_minor": 5
}
