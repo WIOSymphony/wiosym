{
 "cells": [
  {
   "cell_type": "code",
   "execution_count": 1,
   "metadata": {},
   "outputs": [],
   "source": [
    "import os\n",
    "import ee\n",
    "import geemap\n",
    "from geemap.datasets import DATA, get_metadata\n",
    "#ee.Authenticate()\n",
    "#ee.Initialize()"
   ]
  },
  {
   "cell_type": "code",
   "execution_count": 4,
   "metadata": {},
   "outputs": [
    {
     "data": {
      "application/vnd.jupyter.widget-view+json": {
       "model_id": "141b4116d9bf41da8345e9e375035400",
       "version_major": 2,
       "version_minor": 0
      },
      "text/plain": [
       "HTML(value='\\n            <html>\\n            <body>\\n                <h3>Murray Global Tidal Wetland Change v…"
      ]
     },
     "metadata": {},
     "output_type": "display_data"
    }
   ],
   "source": [
    "DATA.JCU_Murray_GIC_global_tidal_wetland_change_2019\n",
    "DATA.JCU\n",
    "get_metadata(DATA.JCU_Murray_GIC_global_tidal_wetland_change_2019)"
   ]
  },
  {
   "cell_type": "code",
   "execution_count": 15,
   "metadata": {},
   "outputs": [],
   "source": [
    "\n",
    "Map = geemap.Map(center=[10, 40], zoom=3)\n"
   ]
  },
  {
   "cell_type": "code",
   "execution_count": 14,
   "metadata": {},
   "outputs": [],
   "source": [
    "# Define the region of interest\n",
    "aoi = ee.Geometry.Polygon(\n",
    "    [[[-23.196328877875377, 25.426571732673924],\n",
    "      [-23.196328877875377, -45.380577059318085],\n",
    "      [81.92085862212463, -45.380577059318085],\n",
    "      [81.92085862212463, 25.426571732673924]]], None, False)"
   ]
  },
  {
   "cell_type": "code",
   "execution_count": 16,
   "metadata": {},
   "outputs": [],
   "source": [
    "#set output directory\n",
    "out_dir=os.path.expanduser('C:/Users/pichaya/wiosym/data/reg/eco/ch_mudflat/v01/proc')\n",
    "if not os.path.exists(out_dir):\n",
    "    os.makedirs(out_dir)"
   ]
  },
  {
   "cell_type": "code",
   "execution_count": 17,
   "metadata": {},
   "outputs": [],
   "source": [
    "# Load the Earth Engine datasets\n",
    "Int2002_2004 = ee.Image('UQ/murray/Intertidal/v1_1/global_intertidal/2002-2004').clip(aoi)\n",
    "Int2011_2013 = ee.Image('UQ/murray/Intertidal/v1_1/global_intertidal/2011-2013').clip(aoi)\n",
    "Int2014_2016 = ee.Image('UQ/murray/Intertidal/v1_1/global_intertidal/2014-2016').clip(aoi)\n",
    "\n",
    "# Create an image collection from the datasets\n",
    "collection = ee.ImageCollection([Int2002_2004, Int2011_2013, Int2014_2016])\n",
    "\n",
    "# Mosaic the images in the collection\n",
    "mosaic = collection.mosaic()\n",
    "\n"
   ]
  },
  {
   "cell_type": "code",
   "execution_count": 18,
   "metadata": {},
   "outputs": [],
   "source": [
    "# Export the image to Google Cloud Storage\n",
    "\n",
    "# INSERT YOUR PROJECT HERE!\n",
    "#PROJECT = 'melody-336508'\n",
    "\n",
    "# Define the output path and file name for the exported file on Google Cloud Storage\n",
    "\n",
    "#out_dir = 'gs://wiosym'\n",
    "#file_name = 'intertidal_mosaic.tif'\n",
    "# INSERT YOUR BUCKET HERE!\n",
    "bucket = 'pichaya'\n",
    "geemap.ee_export_image_to_cloud_storage(mosaic, description='intertidal_mosaic', bucket=bucket, region=aoi, scale=100, maxPixels=10000000000000)\n",
    "\n",
    "\n",
    "\n",
    "#export data to local computer\n",
    "#out_raster = os.path.join(os.path.expanduser('~'),'proc')\n",
    "#file_name = os.path.join(out_dir,'intertidal_mosaic.tif')\n",
    "#geemap.ee_export_image(mosaic,filename=file_name, scale=100, region=aoi, file_per_band=False)\n"
   ]
  },
  {
   "cell_type": "code",
   "execution_count": 19,
   "metadata": {},
   "outputs": [
    {
     "data": {
      "application/vnd.jupyter.widget-view+json": {
       "model_id": "7360d1a502994c378caad1d9433a9cb8",
       "version_major": 2,
       "version_minor": 0
      },
      "text/plain": [
       "Map(center=[10, 40], controls=(WidgetControl(options=['position', 'transparent_bg'], widget=HBox(children=(Tog…"
      ]
     },
     "metadata": {},
     "output_type": "display_data"
    }
   ],
   "source": [
    "# Create a geemap interactive map\n",
    "Map = geemap.Map(center=[0, 0], zoom=4)\n",
    "\n",
    "viz_params = {\n",
    "    'min': 0,\n",
    "    'max': 1,\n",
    "    'palette': ['black', 'green']\n",
    "}\n",
    "\n",
    "viz = {\n",
    "    'min': 0,\n",
    "    'max': 1,\n",
    "    'palette': ['black', 'red']\n",
    "}\n",
    "viz2 = {\n",
    "    'min': 0,\n",
    "    'max': 1,\n",
    "    'palette': ['black', 'yellow']\n",
    "}\n",
    "viz3 = {\n",
    "    'min': 0,\n",
    "    'max': 1,\n",
    "    'palette': ['black', 'blue']\n",
    "}\n",
    "\n",
    "# Add the mosaic layer to the map\n",
    "Map = geemap.Map(center=[10, 40], zoom=5)\n",
    "Map.addLayer(mosaic, viz_params, 'Mosaic')\n",
    "Map.addLayer(Int2002_2004, viz, 'Int2002_2004')\n",
    "Map.addLayer(Int2011_2013, viz2, 'Int2011_2013')\n",
    "Map.addLayer(Int2014_2016, viz3, 'Int2014_2016')\n",
    "Map\n"
   ]
  },
  {
   "cell_type": "code",
   "execution_count": 2,
   "metadata": {},
   "outputs": [],
   "source": [
    "\n",
    "import glob\n",
    "import rasterio\n",
    "from rasterio.merge import merge\n",
    "from rasterio.windows import Window\n",
    "import matplotlib.pyplot as plt\n",
    "import numpy as np\n",
    "import shutil"
   ]
  },
  {
   "cell_type": "code",
   "execution_count": 3,
   "metadata": {},
   "outputs": [],
   "source": [
    "# Define the directory where your images are stored\n",
    "image_directory = 'C:/Users/pichaya/wiosym/data/reg/eco/ch_mudflat/v01/proc/30m/mosaic/'\n",
    "\n",
    "# Find all the images (e.g., .tif files) in the directory\n",
    "search_criteria = \"*.tif\"\n",
    "search_path = os.path.join(image_directory, search_criteria)\n",
    "image_files = glob.glob(search_path)\n",
    "\n",
    "# Initialize an empty dictionary to store band data\n",
    "band_data_dict = {}"
   ]
  },
  {
   "cell_type": "code",
   "execution_count": 30,
   "metadata": {},
   "outputs": [
    {
     "name": "stdout",
     "output_type": "stream",
     "text": [
      "C:/Users/pichaya/wiosym/data/reg/eco/ch_mudflat/v01/proc/30m/mosaic\\intertidal_mosaic_30_1.tif\n"
     ]
    },
    {
     "ename": "MemoryError",
     "evalue": "Unable to allocate 47.6 GiB for an array with shape (1, 131072, 390054) and data type uint8",
     "output_type": "error",
     "traceback": [
      "\u001b[1;31m---------------------------------------------------------------------------\u001b[0m",
      "\u001b[1;31mMemoryError\u001b[0m                               Traceback (most recent call last)",
      "\u001b[1;32mc:\\Users\\pichaya\\wiosym\\data\\reg\\eco\\ch_mudflat\\v01\\proc\\intertidal_mosiac_gee.ipynb Cell 10\u001b[0m in \u001b[0;36m1\n\u001b[0;32m      <a href='vscode-notebook-cell:/c%3A/Users/pichaya/wiosym/data/reg/eco/ch_mudflat/v01/proc/intertidal_mosiac_gee.ipynb#X12sZmlsZQ%3D%3D?line=6'>7</a>\u001b[0m \u001b[39mfor\u001b[39;00m file \u001b[39min\u001b[39;00m tif_files:\n\u001b[0;32m      <a href='vscode-notebook-cell:/c%3A/Users/pichaya/wiosym/data/reg/eco/ch_mudflat/v01/proc/intertidal_mosiac_gee.ipynb#X12sZmlsZQ%3D%3D?line=7'>8</a>\u001b[0m     \u001b[39m# Open the raster file\u001b[39;00m\n\u001b[0;32m      <a href='vscode-notebook-cell:/c%3A/Users/pichaya/wiosym/data/reg/eco/ch_mudflat/v01/proc/intertidal_mosiac_gee.ipynb#X12sZmlsZQ%3D%3D?line=8'>9</a>\u001b[0m     \u001b[39mwith\u001b[39;00m rasterio\u001b[39m.\u001b[39mopen(file) \u001b[39mas\u001b[39;00m src:\n\u001b[0;32m     <a href='vscode-notebook-cell:/c%3A/Users/pichaya/wiosym/data/reg/eco/ch_mudflat/v01/proc/intertidal_mosiac_gee.ipynb#X12sZmlsZQ%3D%3D?line=9'>10</a>\u001b[0m         \u001b[39m# Read the raster data as a numpy array\u001b[39;00m\n\u001b[1;32m---> <a href='vscode-notebook-cell:/c%3A/Users/pichaya/wiosym/data/reg/eco/ch_mudflat/v01/proc/intertidal_mosiac_gee.ipynb#X12sZmlsZQ%3D%3D?line=10'>11</a>\u001b[0m         raster_data \u001b[39m=\u001b[39m src\u001b[39m.\u001b[39;49mread(\u001b[39m1\u001b[39;49m)\n\u001b[0;32m     <a href='vscode-notebook-cell:/c%3A/Users/pichaya/wiosym/data/reg/eco/ch_mudflat/v01/proc/intertidal_mosiac_gee.ipynb#X12sZmlsZQ%3D%3D?line=11'>12</a>\u001b[0m         \u001b[39mprint\u001b[39m(file)\n\u001b[0;32m     <a href='vscode-notebook-cell:/c%3A/Users/pichaya/wiosym/data/reg/eco/ch_mudflat/v01/proc/intertidal_mosiac_gee.ipynb#X12sZmlsZQ%3D%3D?line=12'>13</a>\u001b[0m         \u001b[39m# Define the plot parameters\u001b[39;00m\n",
      "File \u001b[1;32mrasterio\\_io.pyx:590\u001b[0m, in \u001b[0;36mrasterio._io.DatasetReaderBase.read\u001b[1;34m()\u001b[0m\n",
      "\u001b[1;31mMemoryError\u001b[0m: Unable to allocate 47.6 GiB for an array with shape (1, 131072, 390054) and data type uint8"
     ]
    }
   ],
   "source": [
    "# Define the directory path\n",
    "dir_path = 'C:/Users/pichaya/wiosym/data/reg/eco/ch_mudflat/v01/proc/30m/mosaic/'\n",
    "\n",
    "# Get a list of all .tif files in the directory\n",
    "tif_files = glob.glob(dir_path + '*.tif')\n",
    "# Loop through each file and plot the raster data\n",
    "for file in tif_files:\n",
    "    # Open the raster file\n",
    "    with rasterio.open(file) as src:\n",
    "        # Read the raster data as a numpy array\n",
    "        raster_data = src.read(1)\n",
    "        print(file)\n",
    "        # Define the plot parameters\n",
    "        cmap = 'viridis'\n",
    "        vmin, vmax = raster_data.min(), raster_data.max()"
   ]
  },
  {
   "cell_type": "code",
   "execution_count": 29,
   "metadata": {},
   "outputs": [
    {
     "ename": "MemoryError",
     "evalue": "Unable to allocate 95.2 GiB for an array with shape (1, 262144, 390054) and data type uint8",
     "output_type": "error",
     "traceback": [
      "\u001b[1;31m---------------------------------------------------------------------------\u001b[0m",
      "\u001b[1;31mMemoryError\u001b[0m                               Traceback (most recent call last)",
      "\u001b[1;32mc:\\Users\\pichaya\\wiosym\\data\\reg\\eco\\ch_mudflat\\v01\\proc\\intertidal_mosiac_gee.ipynb Cell 11\u001b[0m in \u001b[0;36m8\n\u001b[0;32m      <a href='vscode-notebook-cell:/c%3A/Users/pichaya/wiosym/data/reg/eco/ch_mudflat/v01/proc/intertidal_mosiac_gee.ipynb#X13sZmlsZQ%3D%3D?line=4'>5</a>\u001b[0m     src_files_to_mosaic\u001b[39m.\u001b[39mappend(src)\n\u001b[0;32m      <a href='vscode-notebook-cell:/c%3A/Users/pichaya/wiosym/data/reg/eco/ch_mudflat/v01/proc/intertidal_mosiac_gee.ipynb#X13sZmlsZQ%3D%3D?line=6'>7</a>\u001b[0m \u001b[39m# Mosaic the raster files together\u001b[39;00m\n\u001b[1;32m----> <a href='vscode-notebook-cell:/c%3A/Users/pichaya/wiosym/data/reg/eco/ch_mudflat/v01/proc/intertidal_mosiac_gee.ipynb#X13sZmlsZQ%3D%3D?line=7'>8</a>\u001b[0m mosaic, out_trans \u001b[39m=\u001b[39m merge(src_files_to_mosaic)\n\u001b[0;32m     <a href='vscode-notebook-cell:/c%3A/Users/pichaya/wiosym/data/reg/eco/ch_mudflat/v01/proc/intertidal_mosiac_gee.ipynb#X13sZmlsZQ%3D%3D?line=9'>10</a>\u001b[0m \u001b[39m# Copy the metadata of the first raster\u001b[39;00m\n\u001b[0;32m     <a href='vscode-notebook-cell:/c%3A/Users/pichaya/wiosym/data/reg/eco/ch_mudflat/v01/proc/intertidal_mosiac_gee.ipynb#X13sZmlsZQ%3D%3D?line=10'>11</a>\u001b[0m out_meta \u001b[39m=\u001b[39m src_files_to_mosaic[\u001b[39m0\u001b[39m]\u001b[39m.\u001b[39mmeta\u001b[39m.\u001b[39mcopy()\n",
      "File \u001b[1;32m~\\AppData\\Roaming\\Python\\Python310\\site-packages\\rasterio\\merge.py:293\u001b[0m, in \u001b[0;36mmerge\u001b[1;34m(datasets, bounds, res, nodata, dtype, precision, indexes, output_count, resampling, method, target_aligned_pixels, dst_path, dst_kwds)\u001b[0m\n\u001b[0;32m    290\u001b[0m     out_profile[\u001b[39m\"\u001b[39m\u001b[39mnodata\u001b[39m\u001b[39m\"\u001b[39m] \u001b[39m=\u001b[39m nodata\n\u001b[0;32m    292\u001b[0m \u001b[39m# create destination array\u001b[39;00m\n\u001b[1;32m--> 293\u001b[0m dest \u001b[39m=\u001b[39m np\u001b[39m.\u001b[39;49mzeros((output_count, output_height, output_width), dtype\u001b[39m=\u001b[39;49mdt)\n\u001b[0;32m    295\u001b[0m \u001b[39mif\u001b[39;00m nodata \u001b[39mis\u001b[39;00m \u001b[39mnot\u001b[39;00m \u001b[39mNone\u001b[39;00m:\n\u001b[0;32m    296\u001b[0m     nodataval \u001b[39m=\u001b[39m nodata\n",
      "\u001b[1;31mMemoryError\u001b[0m: Unable to allocate 95.2 GiB for an array with shape (1, 262144, 390054) and data type uint8"
     ]
    }
   ],
   "source": [
    "# Open all the raster files and read their metadata\n",
    "src_files_to_mosaic = []\n",
    "for file in tif_files:\n",
    "    src = rasterio.open(file)\n",
    "    src_files_to_mosaic.append(src)\n",
    "    \n",
    "# Mosaic the raster files together\n",
    "mosaic, out_trans = merge(src_files_to_mosaic)\n",
    "\n",
    "# Copy the metadata of the first raster\n",
    "out_meta = src_files_to_mosaic[0].meta.copy()\n",
    "out_meta.update({\"driver\": \"GTiff\",\n",
    "                  \"height\": mosaic.shape[1],\n",
    "                  \"width\": mosaic.shape[2],\n",
    "                  \"transform\": out_trans})\n",
    "\n",
    "# Write the output raster to a new GeoTIFF file\n",
    "with rasterio.open(\"C:/Users/pichaya/wiosym/data/reg/eco/ch_mudflat/v01/proc/30m/mosaic/intertidal_mosaic_30.tif\", \"w\", **out_meta) as dest:\n",
    "    dest.write(mosaic)\n",
    "\n",
    "\n",
    "# Open the new raster file and read the raster data as a numpy array\n",
    "with rasterio.open(\"C:/Users/pichaya/wiosym/data/reg/eco/ch_mudflat/v01/proc/30m/mosaic/intertidal_mosaic_30.tif\") as src:\n",
    "    raster_data = src.read(1)\n",
    "\n",
    "# Define the plot parameters\n",
    "cmap = 'viridis'\n",
    "vmin, vmax = raster_data.min(), raster_data.max()\n",
    "\n",
    "# Plot the raster\n",
    "plt.imshow(raster_data, cmap=cmap, vmin=vmin, vmax=vmax)\n",
    "plt.show()"
   ]
  },
  {
   "cell_type": "code",
   "execution_count": 2,
   "metadata": {},
   "outputs": [
    {
     "ename": "ModuleNotFoundError",
     "evalue": "No module named 'osgeo'",
     "output_type": "error",
     "traceback": [
      "\u001b[1;31m---------------------------------------------------------------------------\u001b[0m",
      "\u001b[1;31mModuleNotFoundError\u001b[0m                       Traceback (most recent call last)",
      "\u001b[1;32mc:\\Users\\pichaya\\wiosym\\data\\reg\\eco\\ch_mudflat\\v01\\proc\\intertidal_mosiac_gee.ipynb Cell 13\u001b[0m in \u001b[0;36m3\n\u001b[0;32m      <a href='vscode-notebook-cell:/c%3A/Users/pichaya/wiosym/data/reg/eco/ch_mudflat/v01/proc/intertidal_mosiac_gee.ipynb#X20sZmlsZQ%3D%3D?line=0'>1</a>\u001b[0m \u001b[39mimport\u001b[39;00m \u001b[39mglob\u001b[39;00m\n\u001b[0;32m      <a href='vscode-notebook-cell:/c%3A/Users/pichaya/wiosym/data/reg/eco/ch_mudflat/v01/proc/intertidal_mosiac_gee.ipynb#X20sZmlsZQ%3D%3D?line=1'>2</a>\u001b[0m \u001b[39mimport\u001b[39;00m \u001b[39mos\u001b[39;00m\n\u001b[1;32m----> <a href='vscode-notebook-cell:/c%3A/Users/pichaya/wiosym/data/reg/eco/ch_mudflat/v01/proc/intertidal_mosiac_gee.ipynb#X20sZmlsZQ%3D%3D?line=2'>3</a>\u001b[0m \u001b[39mfrom\u001b[39;00m \u001b[39mosgeo\u001b[39;00m \u001b[39mimport\u001b[39;00m gdal\n\u001b[0;32m      <a href='vscode-notebook-cell:/c%3A/Users/pichaya/wiosym/data/reg/eco/ch_mudflat/v01/proc/intertidal_mosiac_gee.ipynb#X20sZmlsZQ%3D%3D?line=4'>5</a>\u001b[0m \u001b[39m# Define the directory path\u001b[39;00m\n\u001b[0;32m      <a href='vscode-notebook-cell:/c%3A/Users/pichaya/wiosym/data/reg/eco/ch_mudflat/v01/proc/intertidal_mosiac_gee.ipynb#X20sZmlsZQ%3D%3D?line=5'>6</a>\u001b[0m dir_path \u001b[39m=\u001b[39m \u001b[39m'\u001b[39m\u001b[39mC:/Users/pichaya/wiosym/data/reg/eco/ch_mudflat/v01/proc/30m/mosaic/\u001b[39m\u001b[39m'\u001b[39m\n",
      "\u001b[1;31mModuleNotFoundError\u001b[0m: No module named 'osgeo'"
     ]
    }
   ],
   "source": [
    "import glob\n",
    "import os\n",
    "from osgeo import gdal\n",
    "\n",
    "# Define the directory path\n",
    "dir_path = 'C:/Users/pichaya/wiosym/data/reg/eco/ch_mudflat/v01/proc/30m/mosaic/'\n",
    "\n",
    "# Get a list of all .tif files in the directory\n",
    "tif_files = glob.glob(dir_path + '*.tif')\n",
    "\n",
    "# Define the output VRT filename\n",
    "output_vrt = os.path.join(dir_path, 'intertidal_mosaic_30m.vrt')\n",
    "\n",
    "# Create the VRT mosaic file\n",
    "vrt_opts = gdal.BuildVRTOptions(separate=True)\n",
    "gdal.BuildVRT(output_vrt, tif_files, options=vrt_opts)"
   ]
  },
  {
   "cell_type": "code",
   "execution_count": null,
   "metadata": {},
   "outputs": [],
   "source": []
  }
 ],
 "metadata": {
  "kernelspec": {
   "display_name": "Python 3",
   "language": "python",
   "name": "python3"
  },
  "language_info": {
   "codemirror_mode": {
    "name": "ipython",
    "version": 3
   },
   "file_extension": ".py",
   "mimetype": "text/x-python",
   "name": "python",
   "nbconvert_exporter": "python",
   "pygments_lexer": "ipython3",
   "version": "3.10.8"
  },
  "orig_nbformat": 4
 },
 "nbformat": 4,
 "nbformat_minor": 2
}
